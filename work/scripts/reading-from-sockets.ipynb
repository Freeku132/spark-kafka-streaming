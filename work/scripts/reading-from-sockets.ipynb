{
 "cells": [
  {
   "cell_type": "code",
   "execution_count": 1,
   "id": "c8b53752-e8e2-47fc-a89e-da75b16c8e48",
   "metadata": {},
   "outputs": [
    {
     "data": {
      "text/html": [
       "\n",
       "            <div>\n",
       "                <p><b>SparkSession - in-memory</b></p>\n",
       "                \n",
       "        <div>\n",
       "            <p><b>SparkContext</b></p>\n",
       "\n",
       "            <p><a href=\"http://10fdb633d456:4040\">Spark UI</a></p>\n",
       "\n",
       "            <dl>\n",
       "              <dt>Version</dt>\n",
       "                <dd><code>v3.3.0</code></dd>\n",
       "              <dt>Master</dt>\n",
       "                <dd><code>local[*]</code></dd>\n",
       "              <dt>AppName</dt>\n",
       "                <dd><code>Reading from sockets</code></dd>\n",
       "            </dl>\n",
       "        </div>\n",
       "        \n",
       "            </div>\n",
       "        "
      ],
      "text/plain": [
       "<pyspark.sql.session.SparkSession at 0x7fbf781ca3b0>"
      ]
     },
     "execution_count": 1,
     "metadata": {},
     "output_type": "execute_result"
    }
   ],
   "source": [
    "from pyspark.sql import SparkSession\n",
    "from pyspark.sql import functions as func\n",
    "\n",
    "spark = SparkSession.builder.appName(\"Reading from sockets\").master(\"local[*]\").getOrCreate()\n",
    "\n",
    "spark.conf.set(\"spark.sql.shuffle.partitions\", 8)\n",
    "\n",
    "spark"
   ]
  },
  {
   "cell_type": "code",
   "execution_count": 2,
   "id": "220cd275-f389-4ed1-a9d3-f98b22e42d10",
   "metadata": {},
   "outputs": [],
   "source": [
    "# Read stream\n",
    "df_raw = spark.readStream.format(\"socket\").option(\"host\", \"localhost\").option(\"port\", \"9999\").load()"
   ]
  },
  {
   "cell_type": "code",
   "execution_count": 3,
   "id": "04b84cad-1744-48a3-aeb5-2e077085be01",
   "metadata": {},
   "outputs": [],
   "source": [
    "# Split line into array\n",
    "df_words = df_raw.withColumn(\"words\", func.split(\"value\", \" \"))"
   ]
  },
  {
   "cell_type": "code",
   "execution_count": 4,
   "id": "0640cbb7-bc01-46f1-ad80-db65c3c283f9",
   "metadata": {},
   "outputs": [],
   "source": [
    "# Explode array into new row and delete other columns\n",
    "df_word = df_words.withColumn(\"word\", func.explode(df_words.words)).drop(\"value\", \"words\")"
   ]
  },
  {
   "cell_type": "code",
   "execution_count": 5,
   "id": "41dc2bc4-3031-4a2b-a546-c72ec57d01ba",
   "metadata": {},
   "outputs": [],
   "source": [
    "# Agg data and count words\n",
    "df_words_count = df_word.groupBy(\"word\").agg(func.count(\"word\").alias(\"count\"))"
   ]
  },
  {
   "cell_type": "code",
   "execution_count": null,
   "id": "0e1b9776-a98a-4664-9223-73bc964ba2f9",
   "metadata": {},
   "outputs": [],
   "source": [
    "df_words_count.writeStream.format(\"console\").outputMode(\"complete\").start().awaitTermination()"
   ]
  },
  {
   "cell_type": "code",
   "execution_count": null,
   "id": "148bb3f7-14e6-4cfa-b7e8-05505d623c71",
   "metadata": {},
   "outputs": [],
   "source": []
  }
 ],
 "metadata": {
  "kernelspec": {
   "display_name": "Python 3 (ipykernel)",
   "language": "python",
   "name": "python3"
  },
  "language_info": {
   "codemirror_mode": {
    "name": "ipython",
    "version": 3
   },
   "file_extension": ".py",
   "mimetype": "text/x-python",
   "name": "python",
   "nbconvert_exporter": "python",
   "pygments_lexer": "ipython3",
   "version": "3.10.6"
  }
 },
 "nbformat": 4,
 "nbformat_minor": 5
}
