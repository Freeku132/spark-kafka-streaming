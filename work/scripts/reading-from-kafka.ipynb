{
 "cells": [
  {
   "cell_type": "code",
   "execution_count": 28,
   "id": "19584c72-8b15-4d2d-9ac5-37e328314c8f",
   "metadata": {},
   "outputs": [],
   "source": [
    "from pyspark.sql import SparkSession\n",
    "from pyspark.sql.types import StructType, StructField, LongType, StringType, ArrayType\n",
    "from pyspark.sql.functions import explode, expr, from_json, col"
   ]
  },
  {
   "cell_type": "code",
   "execution_count": 29,
   "id": "7c2a6306-6620-4774-9a26-99383847ffa6",
   "metadata": {},
   "outputs": [],
   "source": [
    "spark = (SparkSession\n",
    "         .builder\n",
    "         .config(\"spark.streaming.stopGracefullyOnShutdown\", True)\n",
    "         .config(\"spark.jars.packages\", \"org.apache.spark:spark-sql-kafka-0-10_2.12:3.3.0\")\n",
    "         .config(\"spark.sql.shuffle.partitions\", 4)\n",
    "         .master(\"local[*]\")\n",
    "         .appName(\"Reading from file\").getOrCreate())"
   ]
  },
  {
   "cell_type": "code",
   "execution_count": 30,
   "id": "1ccba1df-ebed-4cfb-9645-50e6cfbe4bc7",
   "metadata": {},
   "outputs": [
    {
     "data": {
      "text/html": [
       "\n",
       "            <div>\n",
       "                <p><b>SparkSession - in-memory</b></p>\n",
       "                \n",
       "        <div>\n",
       "            <p><b>SparkContext</b></p>\n",
       "\n",
       "            <p><a href=\"http://10fdb633d456:4040\">Spark UI</a></p>\n",
       "\n",
       "            <dl>\n",
       "              <dt>Version</dt>\n",
       "                <dd><code>v3.3.0</code></dd>\n",
       "              <dt>Master</dt>\n",
       "                <dd><code>local[*]</code></dd>\n",
       "              <dt>AppName</dt>\n",
       "                <dd><code>Reading from file</code></dd>\n",
       "            </dl>\n",
       "        </div>\n",
       "        \n",
       "            </div>\n",
       "        "
      ],
      "text/plain": [
       "<pyspark.sql.session.SparkSession at 0x7f6e0860b910>"
      ]
     },
     "execution_count": 30,
     "metadata": {},
     "output_type": "execute_result"
    }
   ],
   "source": [
    "spark.conf.set(\"spark.sql.streaming.schemaInterface\", True)\n",
    "spark"
   ]
  },
  {
   "cell_type": "code",
   "execution_count": 31,
   "id": "4a2eda57-3592-42d2-844b-15acf9c563c6",
   "metadata": {},
   "outputs": [],
   "source": [
    "kafka_df = (\n",
    "    spark\n",
    "    .readStream\n",
    "    .format(\"kafka\")\n",
    "    .option(\"kafka.bootstrap.servers\", \"spark_kafka-kafka:29092\")\n",
    "    .option(\"subscribe\", \"device-data\")\n",
    "    .option(\"startingOffsets\", \"earliest\")\n",
    "    .load()\n",
    ")"
   ]
  },
  {
   "cell_type": "code",
   "execution_count": 33,
   "id": "52fb5932-0055-4efa-ad47-f5d2e0e62eec",
   "metadata": {},
   "outputs": [
    {
     "name": "stdout",
     "output_type": "stream",
     "text": [
      "root\n",
      " |-- key: binary (nullable = true)\n",
      " |-- value: binary (nullable = true)\n",
      " |-- topic: string (nullable = true)\n",
      " |-- partition: integer (nullable = true)\n",
      " |-- offset: long (nullable = true)\n",
      " |-- timestamp: timestamp (nullable = true)\n",
      " |-- timestampType: integer (nullable = true)\n",
      "\n"
     ]
    }
   ],
   "source": [
    "kafka_df.printSchema()"
   ]
  },
  {
   "cell_type": "code",
   "execution_count": 34,
   "id": "8a870c77-7efb-41e7-bd7b-a95bbea92c87",
   "metadata": {},
   "outputs": [],
   "source": [
    "kafka_df_json = kafka_df.withColumn(\"value\", expr(\"cast(value as string)\"))\n",
    "# kafka_df_json.show()"
   ]
  },
  {
   "cell_type": "code",
   "execution_count": 35,
   "id": "9f863ced-72c0-42d0-8c02-7fa4629e399b",
   "metadata": {},
   "outputs": [],
   "source": [
    "devices_element_schema = StructType([\n",
    "    StructField('deviceId', StringType(), True),\n",
    "    StructField('measure', StringType(), True),\n",
    "    StructField('status', StringType(), True),\n",
    "    StructField('temperature', LongType(), True)\n",
    "])\n",
    "\n",
    "devices_schema = ArrayType(devices_element_schema, True)\n",
    "\n",
    "data_schema = StructType([\n",
    "    StructField('devices', devices_schema, True)\n",
    "])\n",
    "\n",
    "json_schema = StructType([\n",
    "    StructField('customerId', StringType(), True),\n",
    "    StructField('data', data_schema, True),\n",
    "    StructField('eventId', StringType(), True),\n",
    "    StructField('eventOffset', LongType(), True),\n",
    "    StructField('eventPublisher', StringType(), True),\n",
    "    StructField('eventTime', StringType(), True),\n",
    "])"
   ]
  },
  {
   "cell_type": "code",
   "execution_count": 36,
   "id": "7195b0bd-c386-4fa8-912c-6cd8bea10edf",
   "metadata": {},
   "outputs": [],
   "source": [
    "streaming_df = kafka_df_json.withColumn(\"values_json\", from_json(col(\"value\"), json_schema)).selectExpr(\"values_json.*\")"
   ]
  },
  {
   "cell_type": "code",
   "execution_count": 37,
   "id": "fe032a6b-94df-4f90-b727-d3f2d038e76e",
   "metadata": {},
   "outputs": [
    {
     "name": "stdout",
     "output_type": "stream",
     "text": [
      "root\n",
      " |-- customerId: string (nullable = true)\n",
      " |-- data: struct (nullable = true)\n",
      " |    |-- devices: array (nullable = true)\n",
      " |    |    |-- element: struct (containsNull = true)\n",
      " |    |    |    |-- deviceId: string (nullable = true)\n",
      " |    |    |    |-- measure: string (nullable = true)\n",
      " |    |    |    |-- status: string (nullable = true)\n",
      " |    |    |    |-- temperature: long (nullable = true)\n",
      " |-- eventId: string (nullable = true)\n",
      " |-- eventOffset: long (nullable = true)\n",
      " |-- eventPublisher: string (nullable = true)\n",
      " |-- eventTime: string (nullable = true)\n",
      "\n"
     ]
    }
   ],
   "source": [
    "streaming_df.printSchema()"
   ]
  },
  {
   "cell_type": "code",
   "execution_count": 39,
   "id": "e90024b4-1776-47f4-8bfd-1b4c3c8c3770",
   "metadata": {},
   "outputs": [],
   "source": [
    "exploded_df = streaming_df.withColumn('devices', explode(streaming_df.data.devices)).drop('data')"
   ]
  },
  {
   "cell_type": "code",
   "execution_count": 40,
   "id": "81b2d732-eaae-4f48-a0e0-12848ff92170",
   "metadata": {},
   "outputs": [
    {
     "name": "stdout",
     "output_type": "stream",
     "text": [
      "root\n",
      " |-- customerId: string (nullable = true)\n",
      " |-- eventId: string (nullable = true)\n",
      " |-- eventOffset: long (nullable = true)\n",
      " |-- eventPublisher: string (nullable = true)\n",
      " |-- eventTime: string (nullable = true)\n",
      " |-- devices: struct (nullable = true)\n",
      " |    |-- deviceId: string (nullable = true)\n",
      " |    |-- measure: string (nullable = true)\n",
      " |    |-- status: string (nullable = true)\n",
      " |    |-- temperature: long (nullable = true)\n",
      "\n"
     ]
    }
   ],
   "source": [
    "exploded_df.printSchema()"
   ]
  },
  {
   "cell_type": "code",
   "execution_count": 42,
   "id": "92b09c25-3134-4d7d-b7c0-c9e043722586",
   "metadata": {},
   "outputs": [],
   "source": [
    "flattened_df = exploded_df.withColumns({\n",
    "    'device_id': exploded_df.devices.deviceId,\n",
    "    'measure' : exploded_df.devices.measure,\n",
    "    'status': exploded_df.devices.status,\n",
    "    'temperature' : exploded_df.devices.temperature\n",
    "}).drop('devices')"
   ]
  },
  {
   "cell_type": "code",
   "execution_count": 43,
   "id": "a9fbca9a-af53-4146-9a35-267d73f80c52",
   "metadata": {},
   "outputs": [
    {
     "name": "stdout",
     "output_type": "stream",
     "text": [
      "root\n",
      " |-- customerId: string (nullable = true)\n",
      " |-- eventId: string (nullable = true)\n",
      " |-- eventOffset: long (nullable = true)\n",
      " |-- eventPublisher: string (nullable = true)\n",
      " |-- eventTime: string (nullable = true)\n",
      " |-- device_id: string (nullable = true)\n",
      " |-- measure: string (nullable = true)\n",
      " |-- status: string (nullable = true)\n",
      " |-- temperature: long (nullable = true)\n",
      "\n"
     ]
    }
   ],
   "source": [
    "flattened_df.printSchema()"
   ]
  },
  {
   "cell_type": "code",
   "execution_count": null,
   "id": "b72c925d-0158-4d65-9657-778cd97eb6a2",
   "metadata": {},
   "outputs": [],
   "source": [
    "(flattened_df\n",
    " .writeStream\n",
    " .format(\"console\")\n",
    " .outputMode(\"append\")\n",
    "  .option(\"checkpointLocation\", \"checkpoint_dir_kafka\")\n",
    " .start()\n",
    " .awaitTermination())"
   ]
  },
  {
   "cell_type": "code",
   "execution_count": null,
   "id": "1319e8ba-62f1-4ded-bc18-9c2d5f6ae394",
   "metadata": {},
   "outputs": [],
   "source": [
    "# (flattened_df\n",
    "#  .writeStream\n",
    "#  .format(\"csv\")\n",
    "#  .outputMode(\"append\")\n",
    "#  .option(\"path\", \"../data/output/events/\")        \n",
    "#  .option(\"checkpointLocation\", \"checkpoint_dir\")\n",
    "#  .start()\n",
    "#  .awaitTermination())"
   ]
  },
  {
   "cell_type": "code",
   "execution_count": null,
   "id": "b5555921-923a-4253-9aca-ab64ef72ad67",
   "metadata": {},
   "outputs": [],
   "source": []
  }
 ],
 "metadata": {
  "kernelspec": {
   "display_name": "Python 3 (ipykernel)",
   "language": "python",
   "name": "python3"
  },
  "language_info": {
   "codemirror_mode": {
    "name": "ipython",
    "version": 3
   },
   "file_extension": ".py",
   "mimetype": "text/x-python",
   "name": "python",
   "nbconvert_exporter": "python",
   "pygments_lexer": "ipython3",
   "version": "3.10.6"
  }
 },
 "nbformat": 4,
 "nbformat_minor": 5
}
